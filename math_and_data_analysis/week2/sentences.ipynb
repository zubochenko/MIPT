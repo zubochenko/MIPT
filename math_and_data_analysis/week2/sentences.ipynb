{
 "cells": [
  {
   "cell_type": "code",
   "execution_count": 85,
   "metadata": {},
   "outputs": [],
   "source": [
    "import numpy as np\n",
    "import re\n",
    "from scipy.spatial import distance"
   ]
  },
  {
   "cell_type": "code",
   "execution_count": 86,
   "metadata": {},
   "outputs": [],
   "source": [
    "words = []\n",
    "word_c = 0\n",
    "line_c = 0\n",
    "diction = {}\n",
    "with open('sentences.txt', 'r') as file:\n",
    "    num_lines = len(file.readlines())\n",
    "    file.seek(0)\n",
    "    for line in file:\n",
    "        sentence = re.split('\\W+', line.lower())\n",
    "        for word in sentence[:-1]:\n",
    "            if word not in diction:\n",
    "                diction[word]={\n",
    "                        \"sentence\": word_c,\n",
    "                        \"event\": [0] * num_lines\n",
    "                                }\n",
    "                word_c += 1\n",
    "            elif diction[word][\"event\"][line_c] != 0:\n",
    "                continue\n",
    "            diction[word][\"event\"][line_c] = sentence.count(word)\n",
    "         \n",
    "        line_c += 1\n"
   ]
  },
  {
   "cell_type": "code",
   "execution_count": 87,
   "metadata": {},
   "outputs": [],
   "source": [
    "array = np.zeros((num_lines, len(diction)))"
   ]
  },
  {
   "cell_type": "code",
   "execution_count": 88,
   "metadata": {},
   "outputs": [],
   "source": [
    "for key in diction:\n",
    "    i, j = 0, diction[key]['sentence']\n",
    "    for event in diction[key]['event']:\n",
    "        array[i, j] = event\n",
    "        i += 1\n"
   ]
  },
  {
   "cell_type": "code",
   "execution_count": 89,
   "metadata": {},
   "outputs": [],
   "source": [
    "dist = []\n",
    "u = array[0]\n",
    "for i in range(1, num_lines):\n",
    "    v = array[i]\n",
    "    dist.append({'sentence': i, 'distance' : distance.cosine(u, v)})"
   ]
  },
  {
   "cell_type": "code",
   "execution_count": 90,
   "metadata": {},
   "outputs": [
    {
     "name": "stdout",
     "output_type": "stream",
     "text": [
      "{'sentence': 6, 'distance': 0.7673789474003823} {'sentence': 4, 'distance': 0.7770887149698589}\n"
     ]
    }
   ],
   "source": [
    "dist.sort(key=lambda x: x['distance'])\n",
    "print (*dist[0:2])\n"
   ]
  },
  {
   "cell_type": "code",
   "execution_count": null,
   "metadata": {},
   "outputs": [],
   "source": []
  },
  {
   "cell_type": "code",
   "execution_count": null,
   "metadata": {},
   "outputs": [],
   "source": []
  }
 ],
 "metadata": {
  "kernelspec": {
   "display_name": "Python 3",
   "language": "python",
   "name": "python3"
  },
  "language_info": {
   "codemirror_mode": {
    "name": "ipython",
    "version": 3
   },
   "file_extension": ".py",
   "mimetype": "text/x-python",
   "name": "python",
   "nbconvert_exporter": "python",
   "pygments_lexer": "ipython3",
   "version": "3.6.5"
  }
 },
 "nbformat": 4,
 "nbformat_minor": 2
}
