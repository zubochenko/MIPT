{
 "cells": [
  {
   "cell_type": "code",
   "execution_count": 223,
   "metadata": {},
   "outputs": [],
   "source": [
    "import numpy as np\n",
    "import re\n",
    "from scipy.spatial import distance\n",
    "words = []\n",
    "word_c = 0\n",
    "line_c = 0\n",
    "diction = {}\n",
    "dist = []"
   ]
  },
  {
   "cell_type": "code",
   "execution_count": 224,
   "metadata": {},
   "outputs": [],
   "source": [
    "with open('sentences.txt', 'r') as file:\n",
    "    num_lines = len(file.readlines())\n",
    "    file.seek(0)\n",
    "    #читаем из файла все строки, приводим к одному регистру, \n",
    "    #исключаем числа и пробел в самом конце каждого предложения\n",
    "    for line in file:\n",
    "        sentence = re.split(r\"[^a-z]+\", line.lower())\n",
    "        #создаем словарь где ключ слово, а значение словарь с индексом слова и \n",
    "        #списком значением частотности употребления слова\n",
    "        for word in sentence[:-1]:\n",
    "            if word not in diction:\n",
    "                diction[word]={\"word index\": word_c, \"event\": [0] * num_lines}\n",
    "                word_c += 1\n",
    "            elif diction[word][\"event\"][line_c] != 0:\n",
    "                continue\n",
    "            diction[word][\"event\"][line_c] = sentence[:-1].count(word)\n",
    "        line_c += 1"
   ]
  },
  {
   "cell_type": "code",
   "execution_count": 221,
   "metadata": {},
   "outputs": [],
   "source": [
    "# создаем матрицу и заполняем ее значениями и словаря diction\n",
    "array = np.zeros((num_lines, len(diction)))\n",
    "for key in diction:\n",
    "    row, col = 0, diction[key]['word index']\n",
    "    for event in diction[key]['event']:\n",
    "        array[row, col] = event\n",
    "        row += 1"
   ]
  },
  {
   "cell_type": "code",
   "execution_count": 222,
   "metadata": {},
   "outputs": [
    {
     "name": "stdout",
     "output_type": "stream",
     "text": [
      "{'word index': 6, 'distance': 0.7327387580875756} {'word index': 4, 'distance': 0.7770887149698589}\n"
     ]
    }
   ],
   "source": [
    "#ищем косинусное расстояние между векторами в матрице\n",
    "for i in range(1, num_lines):\n",
    "    dist.append({'word index': i, 'distance' : distance.cosine(array[0], array[i])})\n",
    "dist.sort(key=lambda x: x['distance'])\n",
    "print (*dist[0:2])"
   ]
  },
  {
   "cell_type": "markdown",
   "metadata": {},
   "source": [
    "**Предложение: 6, cos: 0.7327387580875756 Предложение: 4, cos: 0.7770887149698589**"
   ]
  },
  {
   "cell_type": "code",
   "execution_count": null,
   "metadata": {},
   "outputs": [],
   "source": [
    "with open('submission-1.txt', 'w') as file:\n",
    "    file.write(\"Расстояние до 6-го текста равно 0.73, до 4-го — 0.78.\")"
   ]
  }
 ],
 "metadata": {
  "kernelspec": {
   "display_name": "Python 3",
   "language": "python",
   "name": "python3"
  },
  "language_info": {
   "codemirror_mode": {
    "name": "ipython",
    "version": 3
   },
   "file_extension": ".py",
   "mimetype": "text/x-python",
   "name": "python",
   "nbconvert_exporter": "python",
   "pygments_lexer": "ipython3",
   "version": "3.6.5"
  }
 },
 "nbformat": 4,
 "nbformat_minor": 2
}
